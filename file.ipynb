{
 "cells": [
  {
   "cell_type": "code",
   "execution_count": 163,
   "metadata": {
    "id": "eDpVoxSYcf4q"
   },
   "outputs": [],
   "source": [
    "# Importing libraries\n",
    "import pandas as pd\n",
    "import numpy as np\n",
    "import matplotlib.pyplot as plt\n",
    "import seaborn as sns\n",
    "import nltk"
   ]
  },
  {
   "cell_type": "code",
   "execution_count": 65,
   "metadata": {
    "colab": {
     "base_uri": "https://localhost:8080/"
    },
    "id": "hf4JAPEGMLMo",
    "outputId": "7606c56b-4eee-4deb-927b-9889eed57eb2"
   },
   "outputs": [
    {
     "name": "stdout",
     "output_type": "stream",
     "text": [
      "Drive already mounted at /content/drive; to attempt to forcibly remount, call drive.mount(\"/content/drive\", force_remount=True).\n"
     ]
    }
   ],
   "source": [
    "# Mounting the drive and importing the dataset\n",
    "from google.colab import drive\n",
    "drive.mount(\"/content/drive\")"
   ]
  },
  {
   "cell_type": "code",
   "execution_count": 66,
   "metadata": {
    "colab": {
     "base_uri": "https://localhost:8080/",
     "height": 204
    },
    "id": "uBgPn88SM3fP",
    "outputId": "912b067b-c5bf-4085-b0ef-0c8159ac80a2"
   },
   "outputs": [
    {
     "data": {
      "text/html": [
       "<div>\n",
       "<style scoped>\n",
       "    .dataframe tbody tr th:only-of-type {\n",
       "        vertical-align: middle;\n",
       "    }\n",
       "\n",
       "    .dataframe tbody tr th {\n",
       "        vertical-align: top;\n",
       "    }\n",
       "\n",
       "    .dataframe thead th {\n",
       "        text-align: right;\n",
       "    }\n",
       "</style>\n",
       "<table border=\"1\" class=\"dataframe\">\n",
       "  <thead>\n",
       "    <tr style=\"text-align: right;\">\n",
       "      <th></th>\n",
       "      <th>Unnamed: 0</th>\n",
       "      <th>article</th>\n",
       "      <th>category</th>\n",
       "      <th>url</th>\n",
       "    </tr>\n",
       "  </thead>\n",
       "  <tbody>\n",
       "    <tr>\n",
       "      <th>0</th>\n",
       "      <td>0</td>\n",
       "      <td>('multiple', None, None, ['\\nPrime Minister Bo...</td>\n",
       "      <td>politics</td>\n",
       "      <td>https://www.bbc.com/news/uk-56572775</td>\n",
       "    </tr>\n",
       "    <tr>\n",
       "      <th>1</th>\n",
       "      <td>1</td>\n",
       "      <td>('multiple', None, None, [\"\\nBrazil's Jair Bol...</td>\n",
       "      <td>politics</td>\n",
       "      <td>https://www.bbc.com/news/world-latin-america-5...</td>\n",
       "    </tr>\n",
       "    <tr>\n",
       "      <th>2</th>\n",
       "      <td>2</td>\n",
       "      <td>('multiple', None, None, ['\\nThe US military s...</td>\n",
       "      <td>politics</td>\n",
       "      <td>tps://www.bbc.com/news/world-asia-39595989</td>\n",
       "    </tr>\n",
       "    <tr>\n",
       "      <th>3</th>\n",
       "      <td>3</td>\n",
       "      <td>('multiple', None, None, ['\\nUS President Dona...</td>\n",
       "      <td>politics</td>\n",
       "      <td>https://www.bbc.com/news/technology-55569604</td>\n",
       "    </tr>\n",
       "    <tr>\n",
       "      <th>4</th>\n",
       "      <td>4</td>\n",
       "      <td>('multiple', None, None, [\"\\nNorthern Ireland'...</td>\n",
       "      <td>politics</td>\n",
       "      <td>https://www.bbc.com/news/uk-northern-ireland-5...</td>\n",
       "    </tr>\n",
       "  </tbody>\n",
       "</table>\n",
       "</div>"
      ],
      "text/plain": [
       "   Unnamed: 0  ...                                                url\n",
       "0           0  ...               https://www.bbc.com/news/uk-56572775\n",
       "1           1  ...  https://www.bbc.com/news/world-latin-america-5...\n",
       "2           2  ...         tps://www.bbc.com/news/world-asia-39595989\n",
       "3           3  ...       https://www.bbc.com/news/technology-55569604\n",
       "4           4  ...  https://www.bbc.com/news/uk-northern-ireland-5...\n",
       "\n",
       "[5 rows x 4 columns]"
      ]
     },
     "execution_count": 66,
     "metadata": {
      "tags": []
     },
     "output_type": "execute_result"
    }
   ],
   "source": [
    "# Loading the data from the path\n",
    "path = 'drive/My Drive'\n",
    "df = pd.read_csv(path+\"/mined_news_content2.csv\")\n",
    "df.head()"
   ]
  },
  {
   "cell_type": "code",
   "execution_count": 67,
   "metadata": {
    "colab": {
     "base_uri": "https://localhost:8080/"
    },
    "id": "DabQUCXVN6Wn",
    "outputId": "63f39316-df0c-4c8d-84fc-f3033b29c376"
   },
   "outputs": [
    {
     "name": "stdout",
     "output_type": "stream",
     "text": [
      "<class 'pandas.core.frame.DataFrame'>\n",
      "RangeIndex: 80 entries, 0 to 79\n",
      "Data columns (total 4 columns):\n",
      " #   Column      Non-Null Count  Dtype \n",
      "---  ------      --------------  ----- \n",
      " 0   Unnamed: 0  80 non-null     int64 \n",
      " 1   article     80 non-null     object\n",
      " 2   category    80 non-null     object\n",
      " 3   url         80 non-null     object\n",
      "dtypes: int64(1), object(3)\n",
      "memory usage: 2.6+ KB\n"
     ]
    }
   ],
   "source": [
    "# Understanding the dataset\n",
    "df.info()"
   ]
  },
  {
   "cell_type": "markdown",
   "metadata": {
    "id": "-nVd8J-EN_C_"
   },
   "source": [
    "### **Cleaning the dataset**"
   ]
  },
  {
   "cell_type": "code",
   "execution_count": 68,
   "metadata": {
    "colab": {
     "base_uri": "https://localhost:8080/",
     "height": 276
    },
    "id": "KYLoXT2cNP6k",
    "outputId": "96bf304d-315f-4b1e-dcf7-5090c9754f1b"
   },
   "outputs": [
    {
     "name": "stderr",
     "output_type": "stream",
     "text": [
      "/usr/local/lib/python3.7/dist-packages/ipykernel_launcher.py:4: SettingWithCopyWarning: \n",
      "A value is trying to be set on a copy of a slice from a DataFrame\n",
      "\n",
      "See the caveats in the documentation: https://pandas.pydata.org/pandas-docs/stable/user_guide/indexing.html#returning-a-view-versus-a-copy\n",
      "  after removing the cwd from sys.path.\n"
     ]
    },
    {
     "data": {
      "application/vnd.google.colaboratory.intrinsic+json": {
       "type": "string"
      },
      "text/plain": [
       "'Prime Minister Boris Johnson has joined more than 20 world leaders in calling for a new global settlement to help the world prepare for future pandemics. \\\\n\\', \\'\\\\nIn a newspaper article the leaders, including the German chancellor and French president, said Covid posed the biggest challenge since World War Two.\\\\n\\', \\'\\\\nWriting in the Daily Telegraph and publications such as Le Monde in France and El Pais in Spain, the 24 leaders argue that a treaty similar to that reached in the wake of World War Two is needed to build cross-border cooperation.\\\\n\\', \\'\\\\nThe signatories, who include the head of the World Health Organization, Dr Tedros Adhanom Ghebreyesus, said: \"At that time, following the devastation of two world wars, political leaders came together to forge the multilateral system. \\\\n\\', \\'\\\\n\"The aims were clear: To bring countries together, to dispel the temptations of isolationism and nationalism, and to address the challenges that could only be achieved together in the spirit of solidarity and co-operation - namely peace, prosperity, health and security.\"\\\\n\\', \\'\\\\nFrance\\\\\\'s President Emmanuel Macron, German Chancellor Angela Merkel and the other leaders said that in the same spirit, countries must now \"be better prepared to predict, prevent, detect, assess and effectively respond to pandemics in a highly co-ordinated fashion\". \\\\n\\', \\'\\\\nA new treaty would help to establish better systems for alerting people about potential pandemics, they said, while also improving the sharing of data and distribution of vaccines and personal protective equipment.\\\\n\\', \\'\\\\n\"There will be other pandemics and other major health emergencies. No single government or multilateral agency can address this threat alone. The question is not if, but when. \\\\n\\', \\'\\\\nThe letter added: \"At a time when Covid-19 has exploited our weaknesses and divisions, we must seize this opportunity and come together as a global community for peaceful co-operation that extends beyond this crisis.\"\\\\n\\', \\'\\\\nDr David Nabarro, a special envoy on Covid-19 for the WHO, told BBC Radio 4\\\\\\'s Today programme that without \"some kind of special action, the world as a whole will not be vaccinated until well into 2022\".\\\\n\\', \\'\\\\n\"During that time all sorts of problems with variants will emerge, and so all that leaders are saying is \\\\\\'this problem is so huge we\\\\\\'ve got to work together to deal with it\\\\\\',\" he added.\\\\n\\', \\'\\\\nWhile the concept of an international vaccine treaty suggests cosy cooperation, elsewhere there is quite the battle going on between the signatories of this letter over the issue of the blueprints to the new vaccines.\\\\n\\', \\'\\\\nSouth Africa and India are leading dozens of mainly developing countries seeking a temporary pandemic waiver to global rules protecting the technology and recipes for Covid vaccines. \\\\n\\', \\'\\\\nThe argument is that the pharmaceutical companies have performed well in getting a vaccine into arms within a year, and need to be able to have the incentive of making money out of this innovation in years to come.\\\\n\\', \\'\\\\nThat would mark a stunning change, and leave the UK and the EU under pressure to change tack, or at least to put more flesh on the bones of the goal of this treaty - that the pandemic will not be over until it is over for everyone.\\\\n\\', \\'\\\\nMr Kwarteng told the programme that making vaccines available to other counties \"can happen once we have a surplus of vaccines here in the UK\".\\\\n\\', \\'\\\\n\"There\\\\\\'s still a way to go. We\\\\\\'ve got to make sure we do everything we can deal with the pandemic and coronavirus in this country,\" he said.\\\\n\\', \\'\\\\n\"But obviously we want to work in the spirit of co-operation as well, and when we do have surpluses we\\\\\\'ll be looking to export those, I\\\\\\'m sure.\"\\\\n\\', \\'\\\\nThe joint article comes in the wake of disagreement between the UK and the EU over vaccines, after the bloc introduced tougher export controls on jabs produced there.\\\\n\\', \\'\\\\nThe UK and the World Health Organization warned against blockades, while the EU blamed pharmaceutical companies - primarily AstraZeneca - for not delivering promised doses. \\\\n\\', \\'\\\\nAt a Downing Street briefing on Monday, Mr Johnson announced that tens of millions of doses of the Novavax vaccine would now be produced and packaged in north-east England.\\\\n\\', \\'\\\\nAlso at the briefing, the PM said the UK did not know \"exactly how strong\" its defences against another wave of Covid would be despite its \"impressive\" vaccine rollout. \\\\n\\', \\'\\\\nHe was speaking as the stay-at-home rule came to an end in England, allowing groups to meet outdoors. Outdoor sport facilities, including swimming pools, tennis courts and golf courses, have reopened, while weddings are also on again.\\\\n\\', \\'\\\\nBut he also said he could not \"see anything in the data right now that would cause us to deviate from the road map\" of easing further restrictions.\\\\n\\', \\'\\\\nThe latest figures show 293,542 UK adults received a first dose of the vaccine on Sunday, taking the overall number to 30,444,829 - with 146,785 having their second dose, bringing that total to 3,674,266.\\\\n\\'])'"
      ]
     },
     "execution_count": 68,
     "metadata": {
      "tags": []
     },
     "output_type": "execute_result"
    }
   ],
   "source": [
    "# Removing irrelevant texts at the beginning of the article\n",
    "article = df['article']\n",
    "for i in range(len(article)):\n",
    "  article[i] = article[i][29:]\n",
    "df['article'][0]"
   ]
  },
  {
   "cell_type": "code",
   "execution_count": 69,
   "metadata": {
    "id": "khAcGvxvNVQ4"
   },
   "outputs": [],
   "source": [
    "# Cleaning texts input from articles and removing special characters\n",
    "import re\n",
    "import string\n",
    "from html.parser import HTMLParser\n",
    "from nltk.corpus import stopwords\n",
    "\n",
    "# Function turning a list into a string\n",
    "def listToString(s): \n",
    "    str1 = \" \"   \n",
    "    return (str1.join(s))\n",
    "\n",
    "# Function to clean texts\n",
    "def clean_texts(text):\n",
    "  # Removing html characters\n",
    "  text = HTMLParser().unescape(text)\n",
    "  # Removing urls and hashtags\n",
    "  text = re.sub(r'https?:\\/\\/.\\S+', \"\", text)\n",
    "  text = re.sub(r'#', '', text)\n",
    "  text = re.sub(r'^RT[\\s]+', '', text)\n",
    "  # Contradiction replacement\n",
    "  dictionary={\"'s\":\" is\",\"n't\":\" not\",\"'m\":\" am\",\"'ll\":\" will\",\n",
    "           \"'d\":\" would\",\"'ve\":\" have\",\"'re\":\" are\", \"\\n\":\" \"}\n",
    "  for key,value in dictionary.items():\n",
    "      if key in text:\n",
    "          text = text.replace(key, value)\n",
    "  # Convert to lower case\n",
    "  text = text.lower()\n",
    "  # Removing stopwords\n",
    "  nltk.download('stopwords')\n",
    "  stopwords_eng = stopwords.words('english') \n",
    "  text_tokens = text.split()\n",
    "  text_list=[]\n",
    "  for word in text_tokens:\n",
    "      if word not in stopwords_eng:\n",
    "          text_list.append(word)\n",
    "  # Remove punctuations\n",
    "  clean_text = []\n",
    "  for word in text_list:\n",
    "      if word not in string.punctuation:\n",
    "          clean_text.append(word)\n",
    "\n",
    "  # Turning the list of words into a single string\n",
    "  clean_text = listToString(clean_text)\n",
    "  return clean_text"
   ]
  },
  {
   "cell_type": "code",
   "execution_count": 70,
   "metadata": {
    "colab": {
     "base_uri": "https://localhost:8080/",
     "height": 1000
    },
    "id": "gfKnPB4mOZJs",
    "outputId": "ac41c2fa-e056-4aff-c759-f1ca86fb2f68"
   },
   "outputs": [
    {
     "name": "stdout",
     "output_type": "stream",
     "text": [
      "[nltk_data] Downloading package stopwords to /root/nltk_data...\n",
      "[nltk_data]   Package stopwords is already up-to-date!\n",
      "[nltk_data] Downloading package stopwords to /root/nltk_data...\n",
      "[nltk_data]   Package stopwords is already up-to-date!\n",
      "[nltk_data] Downloading package stopwords to /root/nltk_data...\n",
      "[nltk_data]   Package stopwords is already up-to-date!\n",
      "[nltk_data] Downloading package stopwords to /root/nltk_data...\n",
      "[nltk_data]   Package stopwords is already up-to-date!\n",
      "[nltk_data] Downloading package stopwords to /root/nltk_data...\n",
      "[nltk_data]   Package stopwords is already up-to-date!\n",
      "[nltk_data] Downloading package stopwords to /root/nltk_data...\n",
      "[nltk_data]   Package stopwords is already up-to-date!\n",
      "[nltk_data] Downloading package stopwords to /root/nltk_data...\n",
      "[nltk_data]   Package stopwords is already up-to-date!\n",
      "[nltk_data] Downloading package stopwords to /root/nltk_data...\n",
      "[nltk_data]   Package stopwords is already up-to-date!\n",
      "[nltk_data] Downloading package stopwords to /root/nltk_data...\n",
      "[nltk_data]   Package stopwords is already up-to-date!\n",
      "[nltk_data] Downloading package stopwords to /root/nltk_data...\n",
      "[nltk_data]   Package stopwords is already up-to-date!\n",
      "[nltk_data] Downloading package stopwords to /root/nltk_data...\n",
      "[nltk_data]   Package stopwords is already up-to-date!\n",
      "[nltk_data] Downloading package stopwords to /root/nltk_data...\n",
      "[nltk_data]   Package stopwords is already up-to-date!\n",
      "[nltk_data] Downloading package stopwords to /root/nltk_data...\n",
      "[nltk_data]   Package stopwords is already up-to-date!\n",
      "[nltk_data] Downloading package stopwords to /root/nltk_data...\n",
      "[nltk_data]   Package stopwords is already up-to-date!\n",
      "[nltk_data] Downloading package stopwords to /root/nltk_data...\n",
      "[nltk_data]   Package stopwords is already up-to-date!\n",
      "[nltk_data] Downloading package stopwords to /root/nltk_data...\n",
      "[nltk_data]   Package stopwords is already up-to-date!\n",
      "[nltk_data] Downloading package stopwords to /root/nltk_data...\n",
      "[nltk_data]   Package stopwords is already up-to-date!\n",
      "[nltk_data] Downloading package stopwords to /root/nltk_data...\n",
      "[nltk_data]   Package stopwords is already up-to-date!\n",
      "[nltk_data] Downloading package stopwords to /root/nltk_data...\n",
      "[nltk_data]   Package stopwords is already up-to-date!\n",
      "[nltk_data] Downloading package stopwords to /root/nltk_data...\n",
      "[nltk_data]   Package stopwords is already up-to-date!\n",
      "[nltk_data] Downloading package stopwords to /root/nltk_data...\n",
      "[nltk_data]   Package stopwords is already up-to-date!\n",
      "[nltk_data] Downloading package stopwords to /root/nltk_data...\n",
      "[nltk_data]   Package stopwords is already up-to-date!\n",
      "[nltk_data] Downloading package stopwords to /root/nltk_data...\n",
      "[nltk_data]   Package stopwords is already up-to-date!\n",
      "[nltk_data] Downloading package stopwords to /root/nltk_data...\n",
      "[nltk_data]   Package stopwords is already up-to-date!\n",
      "[nltk_data] Downloading package stopwords to /root/nltk_data...\n",
      "[nltk_data]   Package stopwords is already up-to-date!\n",
      "[nltk_data] Downloading package stopwords to /root/nltk_data...\n",
      "[nltk_data]   Package stopwords is already up-to-date!\n",
      "[nltk_data] Downloading package stopwords to /root/nltk_data...\n",
      "[nltk_data]   Package stopwords is already up-to-date!\n",
      "[nltk_data] Downloading package stopwords to /root/nltk_data...\n",
      "[nltk_data]   Package stopwords is already up-to-date!\n",
      "[nltk_data] Downloading package stopwords to /root/nltk_data...\n",
      "[nltk_data]   Package stopwords is already up-to-date!\n",
      "[nltk_data] Downloading package stopwords to /root/nltk_data...\n",
      "[nltk_data]   Package stopwords is already up-to-date!\n",
      "[nltk_data] Downloading package stopwords to /root/nltk_data...\n",
      "[nltk_data]   Package stopwords is already up-to-date!\n",
      "[nltk_data] Downloading package stopwords to /root/nltk_data...\n",
      "[nltk_data]   Package stopwords is already up-to-date!\n",
      "[nltk_data] Downloading package stopwords to /root/nltk_data...\n",
      "[nltk_data]   Package stopwords is already up-to-date!\n"
     ]
    },
    {
     "name": "stderr",
     "output_type": "stream",
     "text": [
      "/usr/local/lib/python3.7/dist-packages/ipykernel_launcher.py:15: DeprecationWarning: The unescape method is deprecated and will be removed in 3.5, use html.unescape() instead.\n",
      "  from ipykernel import kernelapp as app\n",
      "/usr/local/lib/python3.7/dist-packages/ipykernel_launcher.py:3: SettingWithCopyWarning: \n",
      "A value is trying to be set on a copy of a slice from a DataFrame\n",
      "\n",
      "See the caveats in the documentation: https://pandas.pydata.org/pandas-docs/stable/user_guide/indexing.html#returning-a-view-versus-a-copy\n",
      "  This is separate from the ipykernel package so we can avoid doing imports until\n"
     ]
    },
    {
     "name": "stdout",
     "output_type": "stream",
     "text": [
      "[nltk_data] Downloading package stopwords to /root/nltk_data...\n",
      "[nltk_data]   Package stopwords is already up-to-date!\n",
      "[nltk_data] Downloading package stopwords to /root/nltk_data...\n",
      "[nltk_data]   Package stopwords is already up-to-date!\n",
      "[nltk_data] Downloading package stopwords to /root/nltk_data...\n",
      "[nltk_data]   Package stopwords is already up-to-date!\n",
      "[nltk_data] Downloading package stopwords to /root/nltk_data...\n",
      "[nltk_data]   Package stopwords is already up-to-date!\n",
      "[nltk_data] Downloading package stopwords to /root/nltk_data...\n",
      "[nltk_data]   Package stopwords is already up-to-date!\n",
      "[nltk_data] Downloading package stopwords to /root/nltk_data...\n",
      "[nltk_data]   Package stopwords is already up-to-date!\n",
      "[nltk_data] Downloading package stopwords to /root/nltk_data...\n",
      "[nltk_data]   Package stopwords is already up-to-date!\n",
      "[nltk_data] Downloading package stopwords to /root/nltk_data...\n",
      "[nltk_data]   Package stopwords is already up-to-date!\n",
      "[nltk_data] Downloading package stopwords to /root/nltk_data...\n",
      "[nltk_data]   Package stopwords is already up-to-date!\n",
      "[nltk_data] Downloading package stopwords to /root/nltk_data...\n",
      "[nltk_data]   Package stopwords is already up-to-date!\n",
      "[nltk_data] Downloading package stopwords to /root/nltk_data...\n",
      "[nltk_data]   Package stopwords is already up-to-date!\n",
      "[nltk_data] Downloading package stopwords to /root/nltk_data...\n",
      "[nltk_data]   Package stopwords is already up-to-date!\n",
      "[nltk_data] Downloading package stopwords to /root/nltk_data...\n",
      "[nltk_data]   Package stopwords is already up-to-date!\n",
      "[nltk_data] Downloading package stopwords to /root/nltk_data...\n",
      "[nltk_data]   Package stopwords is already up-to-date!\n",
      "[nltk_data] Downloading package stopwords to /root/nltk_data...\n",
      "[nltk_data]   Package stopwords is already up-to-date!\n",
      "[nltk_data] Downloading package stopwords to /root/nltk_data...\n",
      "[nltk_data]   Package stopwords is already up-to-date!\n",
      "[nltk_data] Downloading package stopwords to /root/nltk_data...\n",
      "[nltk_data]   Package stopwords is already up-to-date!\n",
      "[nltk_data] Downloading package stopwords to /root/nltk_data...\n",
      "[nltk_data]   Package stopwords is already up-to-date!\n",
      "[nltk_data] Downloading package stopwords to /root/nltk_data...\n",
      "[nltk_data]   Package stopwords is already up-to-date!\n",
      "[nltk_data] Downloading package stopwords to /root/nltk_data...\n",
      "[nltk_data]   Package stopwords is already up-to-date!\n",
      "[nltk_data] Downloading package stopwords to /root/nltk_data...\n",
      "[nltk_data]   Package stopwords is already up-to-date!\n",
      "[nltk_data] Downloading package stopwords to /root/nltk_data...\n",
      "[nltk_data]   Package stopwords is already up-to-date!\n",
      "[nltk_data] Downloading package stopwords to /root/nltk_data...\n",
      "[nltk_data]   Package stopwords is already up-to-date!\n",
      "[nltk_data] Downloading package stopwords to /root/nltk_data...\n",
      "[nltk_data]   Package stopwords is already up-to-date!\n",
      "[nltk_data] Downloading package stopwords to /root/nltk_data...\n",
      "[nltk_data]   Package stopwords is already up-to-date!\n",
      "[nltk_data] Downloading package stopwords to /root/nltk_data...\n",
      "[nltk_data]   Package stopwords is already up-to-date!\n",
      "[nltk_data] Downloading package stopwords to /root/nltk_data...\n",
      "[nltk_data]   Package stopwords is already up-to-date!\n",
      "[nltk_data] Downloading package stopwords to /root/nltk_data...\n",
      "[nltk_data]   Package stopwords is already up-to-date!\n",
      "[nltk_data] Downloading package stopwords to /root/nltk_data...\n",
      "[nltk_data]   Package stopwords is already up-to-date!\n",
      "[nltk_data] Downloading package stopwords to /root/nltk_data...\n",
      "[nltk_data]   Package stopwords is already up-to-date!\n",
      "[nltk_data] Downloading package stopwords to /root/nltk_data...\n",
      "[nltk_data]   Package stopwords is already up-to-date!\n",
      "[nltk_data] Downloading package stopwords to /root/nltk_data...\n",
      "[nltk_data]   Package stopwords is already up-to-date!\n",
      "[nltk_data] Downloading package stopwords to /root/nltk_data...\n",
      "[nltk_data]   Package stopwords is already up-to-date!\n",
      "[nltk_data] Downloading package stopwords to /root/nltk_data...\n",
      "[nltk_data]   Package stopwords is already up-to-date!\n",
      "[nltk_data] Downloading package stopwords to /root/nltk_data...\n",
      "[nltk_data]   Package stopwords is already up-to-date!\n",
      "[nltk_data] Downloading package stopwords to /root/nltk_data...\n",
      "[nltk_data]   Package stopwords is already up-to-date!\n",
      "[nltk_data] Downloading package stopwords to /root/nltk_data...\n",
      "[nltk_data]   Package stopwords is already up-to-date!\n",
      "[nltk_data] Downloading package stopwords to /root/nltk_data...\n",
      "[nltk_data]   Package stopwords is already up-to-date!\n",
      "[nltk_data] Downloading package stopwords to /root/nltk_data...\n",
      "[nltk_data]   Package stopwords is already up-to-date!\n",
      "[nltk_data] Downloading package stopwords to /root/nltk_data...\n",
      "[nltk_data]   Package stopwords is already up-to-date!\n",
      "[nltk_data] Downloading package stopwords to /root/nltk_data...\n",
      "[nltk_data]   Package stopwords is already up-to-date!\n",
      "[nltk_data] Downloading package stopwords to /root/nltk_data...\n",
      "[nltk_data]   Package stopwords is already up-to-date!\n",
      "[nltk_data] Downloading package stopwords to /root/nltk_data...\n",
      "[nltk_data]   Package stopwords is already up-to-date!\n",
      "[nltk_data] Downloading package stopwords to /root/nltk_data...\n",
      "[nltk_data]   Package stopwords is already up-to-date!\n",
      "[nltk_data] Downloading package stopwords to /root/nltk_data...\n",
      "[nltk_data]   Package stopwords is already up-to-date!\n",
      "[nltk_data] Downloading package stopwords to /root/nltk_data...\n",
      "[nltk_data]   Package stopwords is already up-to-date!\n",
      "[nltk_data] Downloading package stopwords to /root/nltk_data...\n",
      "[nltk_data]   Package stopwords is already up-to-date!\n"
     ]
    },
    {
     "data": {
      "application/vnd.google.colaboratory.intrinsic+json": {
       "type": "string"
      },
      "text/plain": [
       "'prime minister boris johnson joined 20 world leaders calling new global settlement help world prepare future pandemics. \\\\n\\', \\'\\\\nin newspaper article leaders, including german chancellor french president, said covid posed biggest challenge since world war two.\\\\n\\', \\'\\\\nwriting daily telegraph publications le monde france el pais spain, 24 leaders argue treaty similar reached wake world war two needed build cross-border cooperation.\\\\n\\', \\'\\\\nthe signatories, include head world health organization, dr tedros adhanom ghebreyesus, said: \"at time, following devastation two world wars, political leaders came together forge multilateral system. \\\\n\\', \\'\\\\n\"the aims clear: bring countries together, dispel temptations isolationism nationalism, address challenges could achieved together spirit solidarity co-operation namely peace, prosperity, health security.\"\\\\n\\', \\'\\\\nfrance\\\\ president emmanuel macron, german chancellor angela merkel leaders said spirit, countries must \"be better prepared predict, prevent, detect, assess effectively respond pandemics highly co-ordinated fashion\". \\\\n\\', \\'\\\\na new treaty would help establish better systems alerting people potential pandemics, said, also improving sharing data distribution vaccines personal protective equipment.\\\\n\\', \\'\\\\n\"there pandemics major health emergencies. single government multilateral agency address threat alone. question if, when. \\\\n\\', \\'\\\\nthe letter added: \"at time covid-19 exploited weaknesses divisions, must seize opportunity come together global community peaceful co-operation extends beyond crisis.\"\\\\n\\', \\'\\\\ndr david nabarro, special envoy covid-19 who, told bbc radio 4\\\\ today programme without \"some kind special action, world whole vaccinated well 2022\".\\\\n\\', \\'\\\\n\"during time sorts problems variants emerge, leaders saying \\\\\\'this problem huge we\\\\ got work together deal it\\\\\\',\" added.\\\\n\\', \\'\\\\nwhile concept international vaccine treaty suggests cosy cooperation, elsewhere quite battle going signatories letter issue blueprints new vaccines.\\\\n\\', \\'\\\\nsouth africa india leading dozens mainly developing countries seeking temporary pandemic waiver global rules protecting technology recipes covid vaccines. \\\\n\\', \\'\\\\nthe argument pharmaceutical companies performed well getting vaccine arms within year, need able incentive making money innovation years come.\\\\n\\', \\'\\\\nthat would mark stunning change, leave uk eu pressure change tack, least put flesh bones goal treaty pandemic everyone.\\\\n\\', \\'\\\\nmr kwarteng told programme making vaccines available counties \"can happen surplus vaccines uk\".\\\\n\\', \\'\\\\n\"there\\\\ still way go. we\\\\ got make sure everything deal pandemic coronavirus country,\" said.\\\\n\\', \\'\\\\n\"but obviously want work spirit co-operation well, surpluses we\\\\ looking export those, i\\\\ sure.\"\\\\n\\', \\'\\\\nthe joint article comes wake disagreement uk eu vaccines, bloc introduced tougher export controls jabs produced there.\\\\n\\', \\'\\\\nthe uk world health organization warned blockades, eu blamed pharmaceutical companies primarily astrazeneca delivering promised doses. \\\\n\\', \\'\\\\nat downing street briefing monday, mr johnson announced tens millions doses novavax vaccine would produced packaged north-east england.\\\\n\\', \\'\\\\nalso briefing, pm said uk know \"exactly strong\" defences another wave covid would despite \"impressive\" vaccine rollout. \\\\n\\', \\'\\\\nhe speaking stay-at-home rule came end england, allowing groups meet outdoors. outdoor sport facilities, including swimming pools, tennis courts golf courses, reopened, weddings also again.\\\\n\\', \\'\\\\nbut also said could \"see anything data right would cause us deviate road map\" easing restrictions.\\\\n\\', \\'\\\\nthe latest figures show 293,542 uk adults received first dose vaccine sunday, taking overall number 30,444,829 146,785 second dose, bringing total 3,674,266.\\\\n\\'])'"
      ]
     },
     "execution_count": 70,
     "metadata": {
      "tags": []
     },
     "output_type": "execute_result"
    }
   ],
   "source": [
    "# Cleaning all texts in the articles\n",
    "for i in range(len(df['article'])):\n",
    "  df['article'][i] = clean_texts(df['article'][i])\n",
    "df['article'][0] "
   ]
  },
  {
   "cell_type": "markdown",
   "metadata": {
    "id": "MUZ-sF16W99B"
   },
   "source": [
    "### **Preparing data for modelling**"
   ]
  },
  {
   "cell_type": "code",
   "execution_count": 71,
   "metadata": {
    "id": "95jUQU35UZRP"
   },
   "outputs": [],
   "source": [
    "from sklearn.preprocessing import LabelEncoder\n",
    "from tensorflow.keras.preprocessing.sequence import pad_sequences\n",
    "from tensorflow.keras.preprocessing.text import Tokenizer\n",
    "\n",
    "df = df.drop(['Unnamed: 0', 'url'], axis=1)\n",
    "\n",
    "# Encoding the category column\n",
    "le = LabelEncoder()\n",
    "df['category'] = le.fit_transform(df['category'])"
   ]
  },
  {
   "cell_type": "code",
   "execution_count": 167,
   "metadata": {
    "colab": {
     "base_uri": "https://localhost:8080/"
    },
    "id": "J7n5JY3ud2HL",
    "outputId": "5c188e1a-6853-413f-badc-e239df0a6756"
   },
   "outputs": [
    {
     "data": {
      "text/plain": [
       "array(['business', 'entertainment', 'politics', 'sports'], dtype=object)"
      ]
     },
     "execution_count": 167,
     "metadata": {
      "tags": []
     },
     "output_type": "execute_result"
    }
   ],
   "source": [
    "# Getting the encoded values of category\n",
    "le.inverse_transform([0, 1, 2, 3])"
   ]
  },
  {
   "cell_type": "code",
   "execution_count": 150,
   "metadata": {
    "id": "NkccRtzsUuZU"
   },
   "outputs": [],
   "source": [
    "# Shuffling the data\n",
    "df = df.reindex(np.random.permutation(df.index))\n",
    "\n",
    "# Splitting features from the label\n",
    "data = df['article'].values\n",
    "target = df['category'].values"
   ]
  },
  {
   "cell_type": "code",
   "execution_count": 151,
   "metadata": {
    "id": "-xOwOqRMUzJ6"
   },
   "outputs": [],
   "source": [
    "# Splitting the data into training and testing set\n",
    "# from sklearn.model_selection import train_test_split\n",
    "# X_train, X_test, y_train, y_test = train_test_split(data, target, test_size=0.2)\n",
    "# X_train.shape, X_test.shape, y_train.shape, y_test.shape"
   ]
  },
  {
   "cell_type": "code",
   "execution_count": 152,
   "metadata": {
    "id": "cUoZbKNYV1Ex"
   },
   "outputs": [],
   "source": [
    "# Preparing the tokenizer\n",
    "tokenizer = Tokenizer(num_words=100)\n",
    "tokenizer.fit_on_texts(data)"
   ]
  },
  {
   "cell_type": "code",
   "execution_count": 153,
   "metadata": {
    "colab": {
     "base_uri": "https://localhost:8080/"
    },
    "id": "kmTYVNiMV-M1",
    "outputId": "288f84d5-8b29-490e-9a27-f75e47b1f9f1"
   },
   "outputs": [
    {
     "name": "stdout",
     "output_type": "stream",
     "text": [
      "[[51, 23, 8, 42, 46, 30, 34, 16, 8, 43, 9, 44, 44, 51, 16, 96, 3, 1, 23, 9, 97, 15, 44, 17, 85, 44, 51, 51, 47, 76, 76, 16, 42, 6, 46, 32, 76, 51, 63, 23, 30, 38, 44, 44, 16, 46, 3, 1, 91, 23, 27, 97, 3, 1, 51, 34, 28, 92, 81, 3, 1, 98, 42, 3, 4], [76, 17, 12, 15, 11, 60, 54, 70, 37, 1, 63, 64, 63, 63, 1, 15, 76, 64, 15, 76, 55, 15, 70, 70, 12, 86, 33, 12, 63, 45, 1, 6, 64, 63, 1, 17, 12, 3, 48, 1, 71, 1, 71, 17, 12, 1, 63, 15, 9, 6, 36, 36, 9, 77, 37, 15, 30, 1, 37, 6, 48, 60, 11, 1, 48, 44, 48, 44, 64, 47, 4]]\n"
     ]
    }
   ],
   "source": [
    "# Integer encoding the documents\n",
    "encoded_data = tokenizer.texts_to_sequences(data)\n",
    "print(encoded_data[0:2])"
   ]
  },
  {
   "cell_type": "code",
   "execution_count": 154,
   "metadata": {
    "id": "AlOg257Tr-EX"
   },
   "outputs": [],
   "source": [
    "# Saving the tokenizer object\n",
    "import pickle\n",
    "\n",
    "filename = \"tokenizer.pickle\"\n",
    "pickle.dump(tokenizer, open(filename, 'wb'))"
   ]
  },
  {
   "cell_type": "code",
   "execution_count": 155,
   "metadata": {
    "id": "WJqiSDevZGqd"
   },
   "outputs": [],
   "source": [
    "# pad documents to a max length of 6 words\n",
    "max_length = 10\n",
    "padded_data = pad_sequences(encoded_data, maxlen=max_length, padding='post')"
   ]
  },
  {
   "cell_type": "code",
   "execution_count": 156,
   "metadata": {
    "id": "KN3vO4WIaILR"
   },
   "outputs": [],
   "source": [
    "# # Applying classifiaction algorithms to predict similar newspapers\n",
    "# from sklearn.neighbors import KNeighborsClassifier\n",
    "# from sklearn.metrics import accuracy_score\n",
    "# import xgboost as xgb\n",
    "\n",
    "# model = KNeighborsClassifier(n_neighbors = 4)\n",
    "# y_pred = model.fit(padded_train, y_train).predict(padded_test)\n",
    "# score = accuracy_score(y_pred, y_test)\n",
    "# print(\"The score of our KNN model is: \", score*100, \"%\")\n",
    "\n",
    "# model2 = xgb.XGBClassifier()\n",
    "# y_pred = model2.fit(padded_train, y_train).predict(padded_test)\n",
    "# score = accuracy_score(y_pred, y_test)\n",
    "# print(\"The score of our xgboost model is: \", score*100, \"%\")"
   ]
  },
  {
   "cell_type": "code",
   "execution_count": 157,
   "metadata": {
    "id": "uhpO9rbhaOFa"
   },
   "outputs": [],
   "source": [
    "# # Saving the xgboost model for deployment\n",
    "# import pickle\n",
    "\n",
    "# filename = \"newspaper_model.sav\"\n",
    "# pickle.dump(model2, open(filename, 'wb'))"
   ]
  },
  {
   "cell_type": "code",
   "execution_count": 158,
   "metadata": {
    "id": "bUvuiItCYBmQ"
   },
   "outputs": [],
   "source": [
    "# Using Principal component analysis (PCA) model for dimensionality reduction\n",
    "from sklearn.decomposition import PCA\n",
    "\n",
    "model = PCA(2)\n",
    "X_reduced = model.fit_transform(padded_data)"
   ]
  },
  {
   "cell_type": "code",
   "execution_count": 159,
   "metadata": {
    "colab": {
     "base_uri": "https://localhost:8080/",
     "height": 352
    },
    "id": "D7z73kafatYt",
    "outputId": "5902ec18-7a9d-41fc-b2e9-72d1a4966ca2"
   },
   "outputs": [
    {
     "name": "stderr",
     "output_type": "stream",
     "text": [
      "/usr/local/lib/python3.7/dist-packages/seaborn/_decorators.py:43: FutureWarning: Pass the following variables as keyword args: x, y. From version 0.12, the only valid positional argument will be `data`, and passing other arguments without an explicit keyword will result in an error or misinterpretation.\n",
      "  FutureWarning\n"
     ]
    },
    {
     "data": {
      "text/plain": [
       "<matplotlib.axes._subplots.AxesSubplot at 0x7f32f7bf96d0>"
      ]
     },
     "execution_count": 159,
     "metadata": {
      "tags": []
     },
     "output_type": "execute_result"
    },
    {
     "data": {
      "image/png": "[encoded data removed]",
      "text/plain": [
       "<Figure size 432x288 with 1 Axes>"
      ]
     },
     "metadata": {
      "needs_background": "light",
      "tags": []
     },
     "output_type": "display_data"
    }
   ],
   "source": [
    "# Using clustering model and dimensionality reduction\n",
    "from sklearn.cluster import KMeans\n",
    "from sklearn.metrics import accuracy_score\n",
    "\n",
    "kmeans = KMeans(n_clusters=4, random_state=0)\n",
    "X_new = kmeans.fit_transform(X_reduced)\n",
    "pickle_in = open(\"newspaper_model.sav\", \"rb\")\n",
    "model = pickle.load(pickle_in)\n",
    "label = model.predict(X_reduced)\n",
    "\n",
    "score = accuracy_score(label, target)\n",
    "plt.title(\"Clustering newspapers\")\n",
    "sns.scatterplot(X_new[:, 0], X_new[:, 1], hue=label, palette=['green','orange','brown','dodgerblue'],legend='full')"
   ]
  },
  {
   "cell_type": "markdown",
   "metadata": {
    "id": "D782p0SMeS40"
   },
   "source": [
    "**We can observe from the chart above that the model is performing well on clustering politics and sports articles but struggles to differentiate between business and arts. Mining more data will help in solving this issue**"
   ]
  },
  {
   "cell_type": "code",
   "execution_count": 160,
   "metadata": {
    "id": "ker831VYYAaZ"
   },
   "outputs": [],
   "source": [
    "score = accuracy_score(label, target)"
   ]
  },
  {
   "cell_type": "code",
   "execution_count": 161,
   "metadata": {
    "colab": {
     "base_uri": "https://localhost:8080/"
    },
    "id": "7HqMP274cldU",
    "outputId": "e9477e74-bcb1-448b-a627-4bad6c1c4637"
   },
   "outputs": [
    {
     "name": "stdout",
     "output_type": "stream",
     "text": [
      "The accuracy score of the k-means clustering is:  33.75 %\n"
     ]
    }
   ],
   "source": [
    "# Evaluating the accuracy of the model\n",
    "print(\"The accuracy score of the k-means clustering is: \", score*100,\"%\")"
   ]
  },
  {
   "cell_type": "code",
   "execution_count": 162,
   "metadata": {
    "id": "gxAgD23I7vLf"
   },
   "outputs": [],
   "source": [
    "# Saving the model\n",
    "import pickle\n",
    "\n",
    "filename = \"newspaper_model.sav\"\n",
    "pickle.dump(kmeans, open(filename, 'wb'))"
   ]
  },
  {
   "cell_type": "code",
   "execution_count": 214,
   "metadata": {
    "colab": {
     "base_uri": "https://localhost:8080/"
    },
    "id": "Q0oVo8KVARpf",
    "outputId": "b783c3a3-4885-4143-dad3-63440ae6d2b9"
   },
   "outputs": [
    {
     "name": "stdout",
     "output_type": "stream",
     "text": [
      "[nltk_data] Downloading package stopwords to /root/nltk_data...\n",
      "[nltk_data]   Package stopwords is already up-to-date!\n",
      "[1]\n"
     ]
    },
    {
     "name": "stderr",
     "output_type": "stream",
     "text": [
      "/usr/local/lib/python3.7/dist-packages/ipykernel_launcher.py:15: DeprecationWarning: The unescape method is deprecated and will be removed in 3.5, use html.unescape() instead.\n",
      "  from ipykernel import kernelapp as app\n"
     ]
    }
   ],
   "source": [
    "# Testing the prediction of the model\n",
    "\n",
    "# Loading the model\n",
    "pickle_in = open(\"newspaper_model.sav\", \"rb\")\n",
    "model = pickle.load(pickle_in)\n",
    "\n",
    "content = df['article'][25]\n",
    "content = clean_texts(content)\n",
    "encoded_text = tokenizer.texts_to_sequences([content])\n",
    "max_length = 2\n",
    "padded_text = pad_sequences(encoded_text, maxlen=max_length, padding='post')\n",
    "y_pred = model.predict(padded_text)\n",
    "print(y_pred)"
   ]
  },
  {
   "cell_type": "code",
   "execution_count": 209,
   "metadata": {
    "colab": {
     "base_uri": "https://localhost:8080/"
    },
    "id": "DWv7BR6NATB_",
    "outputId": "c0e5a363-4215-4ea0-b85e-24f9fd2b24a7"
   },
   "outputs": [
    {
     "data": {
      "text/plain": [
       "array([1], dtype=int32)"
      ]
     },
     "execution_count": 209,
     "metadata": {
      "tags": []
     },
     "output_type": "execute_result"
    }
   ],
   "source": [
    "y_pred"
   ]
  },
  {
   "cell_type": "code",
   "execution_count": 214,
   "metadata": {
    "id": "ajqhLWZDAXXx"
   },
   "outputs": [],
   "source": []
  },
  {
   "cell_type": "code",
   "execution_count": 214,
   "metadata": {
    "id": "FaES0oujG6_n"
   },
   "outputs": [],
   "source": []
  },
  {
   "cell_type": "code",
   "execution_count": null,
   "metadata": {
    "id": "WHQi-nWhHLAr"
   },
   "outputs": [],
   "source": []
  }
 ],
 "metadata": {
  "colab": {
   "collapsed_sections": [],
   "name": "KevinSebineza _DM _Assignment4.ipynb",
   "provenance": [],
   "toc_visible": true
  },
  "kernelspec": {
   "display_name": "Python 3",
   "language": "python",
   "name": "python3"
  },
  "language_info": {
   "codemirror_mode": {
    "name": "ipython",
    "version": 3
   },
   "file_extension": ".py",
   "mimetype": "text/x-python",
   "name": "python",
   "nbconvert_exporter": "python",
   "pygments_lexer": "ipython3",
   "version": "3.8.8"
  }
 },
 "nbformat": 4,
 "nbformat_minor": 1
}
